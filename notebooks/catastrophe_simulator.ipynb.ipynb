# Openly Real-Time Catastrophe Impact Simulator
import pandas as pd
import numpy as np

# --- Step 1: Load Data ---
policies = pd.read_csv('../data/policies.csv')
agents = pd.read_csv('../data/agents.csv')
events = pd.read_csv('../data/disaster_events.csv')

# --- Step 2: Select a Disaster Event ---
# Example: simulate the first event
event = events.iloc[0]
print(f"Simulating Event: {event['event_type']} in {event['region']} (Severity: {event['severity']})\n")

# --- Step 3: Filter Policies in Affected Region ---
affected_policies = policies[policies['region'] == event['region']].copy()

# --- Step 4: Estimate Payouts ---
# Gross payout = policy_value * avg_claim_severity * severity factor
severity_factor = 0.25 * event['severity']  # Simple factor: can adjust
affected_policies['gross_payout'] = affected_policies['policy_value'] * affected_policies['avg_claim_severity'] * severity_factor

# Net payout after reinsurance
affected_policies['net_payout'] = affected_policies['gross_payout'] * (1 - affected_policies['reinsurance_coverage'])

# --- Step 5: Compute Totals ---
total_gross = affected_policies['gross_payout'].sum()
total_net = affected_policies['net_payout'].sum()

# Mock reserves for demonstration
reserves = 300_000_000
solvency_ratio = reserves / total_net

# --- Step 6: Output Summary ---
print(f"Total Policies Impacted: {len(affected_policies)}")
print(f"Total Gross Payout: ${total_gross:,.0f}")
print(f"Total Net Payout (after reinsurance): ${total_net:,.0f}")
print(f"Reserve Adequacy (Solvency Ratio): {solvency_ratio:.2f}")

# --- Step 7: Save Output for Power BI ---
affected_policies.to_csv('../data/output_catastrophe.csv', index=False)
print("\nOutput saved to data/output_catastrophe.csv for Power BI integration.")

